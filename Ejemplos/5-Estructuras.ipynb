{
 "cells": [
  {
   "cell_type": "code",
   "execution_count": null,
   "metadata": {},
   "outputs": [],
   "source": [
    "import fiona\n",
    "\n",
    "dpto = fiona.open(\"datos/paraguay_2012_departamentos_wgs84_1.shp\")\n",
    "\n",
    "print(len(dpto))"
   ]
  },
  {
   "cell_type": "code",
   "execution_count": null,
   "metadata": {},
   "outputs": [],
   "source": [
    "print(dpto.schema)"
   ]
  },
  {
   "cell_type": "code",
   "execution_count": null,
   "metadata": {},
   "outputs": [],
   "source": [
    "for registro in dpto:\n",
    "    # Aca imprimir el nombre\n",
    "    print(\"El nombre de \", registro[\"properties\"][\"dpto_desc\"])\n",
    "    print(\"De tipo \", registro[\"geometry\"][\"type\"])"
   ]
  },
  {
   "cell_type": "code",
   "execution_count": 12,
   "metadata": {},
   "outputs": [],
   "source": [
    "from shapely.geometry import shape, Polygon"
   ]
  },
  {
   "cell_type": "code",
   "execution_count": 14,
   "metadata": {},
   "outputs": [
    {
     "name": "stdout",
     "output_type": "stream",
     "text": [
      "El departamento ASUNCION tiene area 128328094\n"
     ]
    }
   ],
   "source": [
    "from shapely.geometry import Polygon\n",
    "\n",
    "for registro in dpto:\n",
    "    geom = registro[\"geometry\"]\n",
    "    \n",
    "    poly = Polygon(geom[\"coordinates\"][0])\n",
    "    if registro[\"properties\"][\"dpto_desc\"] == \"ASUNCION\":\n",
    "        print(\"El departamento %s tiene area %d\" % \n",
    "                   (registro[\"properties\"][\"dpto_desc\"],  poly.area)  \n",
    "              )"
   ]
  },
  {
   "cell_type": "code",
   "execution_count": 13,
   "metadata": {},
   "outputs": [
    {
     "name": "stdout",
     "output_type": "stream",
     "text": [
      "{'init': 'epsg:32721'}\n"
     ]
    }
   ],
   "source": [
    "print(dpto.crs)"
   ]
  },
  {
   "cell_type": "code",
   "execution_count": 18,
   "metadata": {},
   "outputs": [
    {
     "name": "stdout",
     "output_type": "stream",
     "text": [
      "El departamento ASUNCION tiene area 128.33 km2\n",
      "El departamento CONCEPCION tiene area 18528.90 km2\n",
      "El departamento SAN PEDRO tiene area 20836.72 km2\n",
      "El departamento CORDILLERA tiene area 4786.71 km2\n",
      "El departamento GUAIRA tiene area 3867.59 km2\n",
      "El departamento CAAGUAZU tiene area 12898.56 km2\n",
      "El departamento CAAZAPA tiene area 9544.54 km2\n",
      "El departamento ITAPUA tiene area 15860.56 km2\n",
      "El departamento MISIONES tiene area 8153.87 km2\n",
      "El departamento PARAGUARI tiene area 8595.89 km2\n",
      "El departamento ALTO PARANA tiene area 14212.28 km2\n",
      "El departamento CENTRAL tiene area 2411.40 km2\n",
      "El departamento ÑEEMBUCU tiene area 11668.27 km2\n",
      "El departamento AMAMBAY tiene area 12548.74 km2\n",
      "El departamento CANINDEYU tiene area 15063.44 km2\n",
      "El departamento PRESIDENTE HAYES tiene area 73661.37 km2\n",
      "El departamento BOQUERON tiene area 88615.89 km2\n",
      "El departamento ALTO PARAGUAY tiene area 78610.74 km2\n"
     ]
    }
   ],
   "source": [
    "def area_km2(poligono):\n",
    "    calculo = poligono.area / 1000000\n",
    "    return calculo\n",
    "\n",
    "for registro in dpto:\n",
    "    geom = registro[\"geometry\"]\n",
    "    \n",
    "    nombre = registro[\"properties\"][\"dpto_desc\"]\n",
    "    poly = shape(geom)\n",
    "    area = area_km2(poly)\n",
    "    print(\"El departamento %s tiene area %.2f km2\" % (nombre, area))\n",
    "\n"
   ]
  },
  {
   "cell_type": "code",
   "execution_count": 19,
   "metadata": {},
   "outputs": [
    {
     "name": "stdout",
     "output_type": "stream",
     "text": [
      "00000001\n"
     ]
    }
   ],
   "source": [
    "print(\"%08d\" % 1)"
   ]
  },
  {
   "cell_type": "code",
   "execution_count": null,
   "metadata": {},
   "outputs": [],
   "source": []
  }
 ],
 "metadata": {
  "kernelspec": {
   "display_name": "Python 3",
   "language": "python",
   "name": "python3"
  },
  "language_info": {
   "codemirror_mode": {
    "name": "ipython",
    "version": 3
   },
   "file_extension": ".py",
   "mimetype": "text/x-python",
   "name": "python",
   "nbconvert_exporter": "python",
   "pygments_lexer": "ipython3",
   "version": "3.7.3"
  }
 },
 "nbformat": 4,
 "nbformat_minor": 2
}
