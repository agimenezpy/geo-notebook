{
 "cells": [
  {
   "cell_type": "code",
   "execution_count": 1,
   "metadata": {},
   "outputs": [
    {
     "name": "stdout",
     "output_type": "stream",
     "text": [
      "{'init': 'epsg:32721'}\n"
     ]
    }
   ],
   "source": [
    "import geopandas as gpd\n",
    "\n",
    "data = gpd.read_file(\"datos/paraguay_2012_departamentos_wgs84_1.shp\")\n",
    "\n",
    "print(data.crs)"
   ]
  },
  {
   "cell_type": "code",
   "execution_count": null,
   "metadata": {},
   "outputs": [],
   "source": [
    "data.head()"
   ]
  },
  {
   "cell_type": "code",
   "execution_count": null,
   "metadata": {},
   "outputs": [],
   "source": [
    "print(len(data))"
   ]
  },
  {
   "cell_type": "code",
   "execution_count": null,
   "metadata": {},
   "outputs": [],
   "source": [
    "%matplotlib inline\n",
    "data.plot()"
   ]
  },
  {
   "cell_type": "code",
   "execution_count": null,
   "metadata": {},
   "outputs": [],
   "source": [
    "py_wgs84 = data.to_crs({'init': 'epsg:4326'})"
   ]
  },
  {
   "cell_type": "code",
   "execution_count": null,
   "metadata": {},
   "outputs": [],
   "source": [
    "py_wgs84.head()"
   ]
  },
  {
   "cell_type": "code",
   "execution_count": null,
   "metadata": {},
   "outputs": [],
   "source": [
    "py_wgs84.plot()"
   ]
  },
  {
   "cell_type": "code",
   "execution_count": null,
   "metadata": {},
   "outputs": [],
   "source": [
    "py_wgs84.to_file(\"datos/paraguay_dpto_WGS84.shp\")"
   ]
  },
  {
   "cell_type": "code",
   "execution_count": null,
   "metadata": {},
   "outputs": [],
   "source": [
    "py_wgs84.to_file(\"datos/paraguay_dpto.json\", driver=\"GeoJSON\")"
   ]
  },
  {
   "cell_type": "code",
   "execution_count": 19,
   "metadata": {},
   "outputs": [],
   "source": [
    "\n",
    "comisaria = gpd.read_file(\"datos/Comisarias de Paraguay.csv\", encoding=\"UTF-8\")"
   ]
  },
  {
   "cell_type": "code",
   "execution_count": 20,
   "metadata": {},
   "outputs": [
    {
     "data": {
      "text/html": [
       "<div>\n",
       "<style scoped>\n",
       "    .dataframe tbody tr th:only-of-type {\n",
       "        vertical-align: middle;\n",
       "    }\n",
       "\n",
       "    .dataframe tbody tr th {\n",
       "        vertical-align: top;\n",
       "    }\n",
       "\n",
       "    .dataframe thead th {\n",
       "        text-align: right;\n",
       "    }\n",
       "</style>\n",
       "<table border=\"1\" class=\"dataframe\">\n",
       "  <thead>\n",
       "    <tr style=\"text-align: right;\">\n",
       "      <th></th>\n",
       "      <th>FID</th>\n",
       "      <th>NOMBRE</th>\n",
       "      <th>X</th>\n",
       "      <th>Y</th>\n",
       "      <th>MI_STYLE</th>\n",
       "      <th>MI_PRINX</th>\n",
       "      <th>SP_GEOMETRY</th>\n",
       "      <th>SP_GEOMETRY_AS_TEXT</th>\n",
       "      <th>SP_GEOGRAPHY</th>\n",
       "      <th>geometry</th>\n",
       "    </tr>\n",
       "  </thead>\n",
       "  <tbody>\n",
       "    <tr>\n",
       "      <th>0</th>\n",
       "      <td>Comisarias de Paraguay.fid--35f074e8_16db7c9e8...</td>\n",
       "      <td>CRIA 1.ª (SAN LORENZO)</td>\n",
       "      <td>-57.507292</td>\n",
       "      <td>-25.345119</td>\n",
       "      <td></td>\n",
       "      <td>1</td>\n",
       "      <td>POINT (-57.50729208 -25.345118969999998)</td>\n",
       "      <td>POINT (-57.50729208 -25.345118969999998)</td>\n",
       "      <td>[B@7be967d7</td>\n",
       "      <td>None</td>\n",
       "    </tr>\n",
       "    <tr>\n",
       "      <th>1</th>\n",
       "      <td>Comisarias de Paraguay.fid--35f074e8_16db7c9e8...</td>\n",
       "      <td>CRIA 3.ª (LUQUE)</td>\n",
       "      <td>-57.493068</td>\n",
       "      <td>-25.26573</td>\n",
       "      <td></td>\n",
       "      <td>2</td>\n",
       "      <td>POINT (-57.49306812 -25.26572997)</td>\n",
       "      <td>POINT (-57.49306812 -25.26572997)</td>\n",
       "      <td>[B@4fc23c66</td>\n",
       "      <td>None</td>\n",
       "    </tr>\n",
       "    <tr>\n",
       "      <th>2</th>\n",
       "      <td>Comisarias de Paraguay.fid--35f074e8_16db7c9e8...</td>\n",
       "      <td>CRIA 7.ª (ÑEMBY)</td>\n",
       "      <td>-57.546319</td>\n",
       "      <td>-25.391998</td>\n",
       "      <td></td>\n",
       "      <td>3</td>\n",
       "      <td>POINT (-57.546318959999994 -25.391997989999997)</td>\n",
       "      <td>POINT (-57.546318959999994 -25.391997989999997)</td>\n",
       "      <td>[B@17bd9655</td>\n",
       "      <td>None</td>\n",
       "    </tr>\n",
       "    <tr>\n",
       "      <th>3</th>\n",
       "      <td>Comisarias de Paraguay.fid--35f074e8_16db7c9e8...</td>\n",
       "      <td>CRIA 10.ª (MARIANO R. ALONSO)</td>\n",
       "      <td>-57.533415</td>\n",
       "      <td>-25.21339</td>\n",
       "      <td></td>\n",
       "      <td>4</td>\n",
       "      <td>POINT (-57.533415119999994 -25.21339002)</td>\n",
       "      <td>POINT (-57.533415119999994 -25.21339002)</td>\n",
       "      <td>[B@4507aca8</td>\n",
       "      <td>None</td>\n",
       "    </tr>\n",
       "    <tr>\n",
       "      <th>4</th>\n",
       "      <td>Comisarias de Paraguay.fid--35f074e8_16db7c9e8...</td>\n",
       "      <td>CRIA 24.ª (SAN ANTONIO)</td>\n",
       "      <td>-57.565899</td>\n",
       "      <td>-25.421135</td>\n",
       "      <td></td>\n",
       "      <td>5</td>\n",
       "      <td>POINT (-57.565898999999995 -25.42113504)</td>\n",
       "      <td>POINT (-57.565898999999995 -25.42113504)</td>\n",
       "      <td>[B@75e0ac00</td>\n",
       "      <td>None</td>\n",
       "    </tr>\n",
       "  </tbody>\n",
       "</table>\n",
       "</div>"
      ],
      "text/plain": [
       "                                                 FID  \\\n",
       "0  Comisarias de Paraguay.fid--35f074e8_16db7c9e8...   \n",
       "1  Comisarias de Paraguay.fid--35f074e8_16db7c9e8...   \n",
       "2  Comisarias de Paraguay.fid--35f074e8_16db7c9e8...   \n",
       "3  Comisarias de Paraguay.fid--35f074e8_16db7c9e8...   \n",
       "4  Comisarias de Paraguay.fid--35f074e8_16db7c9e8...   \n",
       "\n",
       "                           NOMBRE           X           Y MI_STYLE MI_PRINX  \\\n",
       "0         CRIA 1.ª (SAN LORENZO)   -57.507292  -25.345119                 1   \n",
       "1               CRIA 3.ª (LUQUE)   -57.493068   -25.26573                 2   \n",
       "2               CRIA 7.ª (ÑEMBY)   -57.546319  -25.391998                 3   \n",
       "3  CRIA 10.ª (MARIANO R. ALONSO)   -57.533415   -25.21339                 4   \n",
       "4        CRIA 24.ª (SAN ANTONIO)   -57.565899  -25.421135                 5   \n",
       "\n",
       "                                       SP_GEOMETRY  \\\n",
       "0         POINT (-57.50729208 -25.345118969999998)   \n",
       "1                POINT (-57.49306812 -25.26572997)   \n",
       "2  POINT (-57.546318959999994 -25.391997989999997)   \n",
       "3         POINT (-57.533415119999994 -25.21339002)   \n",
       "4         POINT (-57.565898999999995 -25.42113504)   \n",
       "\n",
       "                               SP_GEOMETRY_AS_TEXT SP_GEOGRAPHY geometry  \n",
       "0         POINT (-57.50729208 -25.345118969999998)  [B@7be967d7     None  \n",
       "1                POINT (-57.49306812 -25.26572997)  [B@4fc23c66     None  \n",
       "2  POINT (-57.546318959999994 -25.391997989999997)  [B@17bd9655     None  \n",
       "3         POINT (-57.533415119999994 -25.21339002)  [B@4507aca8     None  \n",
       "4         POINT (-57.565898999999995 -25.42113504)  [B@75e0ac00     None  "
      ]
     },
     "execution_count": 20,
     "metadata": {},
     "output_type": "execute_result"
    }
   ],
   "source": [
    "comisaria.head()"
   ]
  },
  {
   "cell_type": "code",
   "execution_count": 21,
   "metadata": {},
   "outputs": [],
   "source": [
    "from shapely.geometry import Point\n",
    "\n",
    "def convertir_punto(registro):\n",
    "    return Point(float(registro[\"X\"]), float(registro[\"Y\"]))\n",
    "\n",
    "\n",
    "comisaria[\"geometry\"] = comisaria.apply(convertir_punto, axis=1)\n"
   ]
  },
  {
   "cell_type": "code",
   "execution_count": 22,
   "metadata": {},
   "outputs": [
    {
     "data": {
      "text/html": [
       "<div>\n",
       "<style scoped>\n",
       "    .dataframe tbody tr th:only-of-type {\n",
       "        vertical-align: middle;\n",
       "    }\n",
       "\n",
       "    .dataframe tbody tr th {\n",
       "        vertical-align: top;\n",
       "    }\n",
       "\n",
       "    .dataframe thead th {\n",
       "        text-align: right;\n",
       "    }\n",
       "</style>\n",
       "<table border=\"1\" class=\"dataframe\">\n",
       "  <thead>\n",
       "    <tr style=\"text-align: right;\">\n",
       "      <th></th>\n",
       "      <th>FID</th>\n",
       "      <th>NOMBRE</th>\n",
       "      <th>X</th>\n",
       "      <th>Y</th>\n",
       "      <th>MI_STYLE</th>\n",
       "      <th>MI_PRINX</th>\n",
       "      <th>SP_GEOMETRY</th>\n",
       "      <th>SP_GEOMETRY_AS_TEXT</th>\n",
       "      <th>SP_GEOGRAPHY</th>\n",
       "      <th>geometry</th>\n",
       "    </tr>\n",
       "  </thead>\n",
       "  <tbody>\n",
       "    <tr>\n",
       "      <th>0</th>\n",
       "      <td>Comisarias de Paraguay.fid--35f074e8_16db7c9e8...</td>\n",
       "      <td>CRIA 1.ª (SAN LORENZO)</td>\n",
       "      <td>-57.507292</td>\n",
       "      <td>-25.345119</td>\n",
       "      <td></td>\n",
       "      <td>1</td>\n",
       "      <td>POINT (-57.50729208 -25.345118969999998)</td>\n",
       "      <td>POINT (-57.50729208 -25.345118969999998)</td>\n",
       "      <td>[B@7be967d7</td>\n",
       "      <td>POINT (-57.507292 -25.345119)</td>\n",
       "    </tr>\n",
       "    <tr>\n",
       "      <th>1</th>\n",
       "      <td>Comisarias de Paraguay.fid--35f074e8_16db7c9e8...</td>\n",
       "      <td>CRIA 3.ª (LUQUE)</td>\n",
       "      <td>-57.493068</td>\n",
       "      <td>-25.26573</td>\n",
       "      <td></td>\n",
       "      <td>2</td>\n",
       "      <td>POINT (-57.49306812 -25.26572997)</td>\n",
       "      <td>POINT (-57.49306812 -25.26572997)</td>\n",
       "      <td>[B@4fc23c66</td>\n",
       "      <td>POINT (-57.493068 -25.26573)</td>\n",
       "    </tr>\n",
       "    <tr>\n",
       "      <th>2</th>\n",
       "      <td>Comisarias de Paraguay.fid--35f074e8_16db7c9e8...</td>\n",
       "      <td>CRIA 7.ª (ÑEMBY)</td>\n",
       "      <td>-57.546319</td>\n",
       "      <td>-25.391998</td>\n",
       "      <td></td>\n",
       "      <td>3</td>\n",
       "      <td>POINT (-57.546318959999994 -25.391997989999997)</td>\n",
       "      <td>POINT (-57.546318959999994 -25.391997989999997)</td>\n",
       "      <td>[B@17bd9655</td>\n",
       "      <td>POINT (-57.546319 -25.391998)</td>\n",
       "    </tr>\n",
       "    <tr>\n",
       "      <th>3</th>\n",
       "      <td>Comisarias de Paraguay.fid--35f074e8_16db7c9e8...</td>\n",
       "      <td>CRIA 10.ª (MARIANO R. ALONSO)</td>\n",
       "      <td>-57.533415</td>\n",
       "      <td>-25.21339</td>\n",
       "      <td></td>\n",
       "      <td>4</td>\n",
       "      <td>POINT (-57.533415119999994 -25.21339002)</td>\n",
       "      <td>POINT (-57.533415119999994 -25.21339002)</td>\n",
       "      <td>[B@4507aca8</td>\n",
       "      <td>POINT (-57.533415 -25.21339)</td>\n",
       "    </tr>\n",
       "    <tr>\n",
       "      <th>4</th>\n",
       "      <td>Comisarias de Paraguay.fid--35f074e8_16db7c9e8...</td>\n",
       "      <td>CRIA 24.ª (SAN ANTONIO)</td>\n",
       "      <td>-57.565899</td>\n",
       "      <td>-25.421135</td>\n",
       "      <td></td>\n",
       "      <td>5</td>\n",
       "      <td>POINT (-57.565898999999995 -25.42113504)</td>\n",
       "      <td>POINT (-57.565898999999995 -25.42113504)</td>\n",
       "      <td>[B@75e0ac00</td>\n",
       "      <td>POINT (-57.565899 -25.421135)</td>\n",
       "    </tr>\n",
       "  </tbody>\n",
       "</table>\n",
       "</div>"
      ],
      "text/plain": [
       "                                                 FID  \\\n",
       "0  Comisarias de Paraguay.fid--35f074e8_16db7c9e8...   \n",
       "1  Comisarias de Paraguay.fid--35f074e8_16db7c9e8...   \n",
       "2  Comisarias de Paraguay.fid--35f074e8_16db7c9e8...   \n",
       "3  Comisarias de Paraguay.fid--35f074e8_16db7c9e8...   \n",
       "4  Comisarias de Paraguay.fid--35f074e8_16db7c9e8...   \n",
       "\n",
       "                           NOMBRE           X           Y MI_STYLE MI_PRINX  \\\n",
       "0         CRIA 1.ª (SAN LORENZO)   -57.507292  -25.345119                 1   \n",
       "1               CRIA 3.ª (LUQUE)   -57.493068   -25.26573                 2   \n",
       "2               CRIA 7.ª (ÑEMBY)   -57.546319  -25.391998                 3   \n",
       "3  CRIA 10.ª (MARIANO R. ALONSO)   -57.533415   -25.21339                 4   \n",
       "4        CRIA 24.ª (SAN ANTONIO)   -57.565899  -25.421135                 5   \n",
       "\n",
       "                                       SP_GEOMETRY  \\\n",
       "0         POINT (-57.50729208 -25.345118969999998)   \n",
       "1                POINT (-57.49306812 -25.26572997)   \n",
       "2  POINT (-57.546318959999994 -25.391997989999997)   \n",
       "3         POINT (-57.533415119999994 -25.21339002)   \n",
       "4         POINT (-57.565898999999995 -25.42113504)   \n",
       "\n",
       "                               SP_GEOMETRY_AS_TEXT SP_GEOGRAPHY  \\\n",
       "0         POINT (-57.50729208 -25.345118969999998)  [B@7be967d7   \n",
       "1                POINT (-57.49306812 -25.26572997)  [B@4fc23c66   \n",
       "2  POINT (-57.546318959999994 -25.391997989999997)  [B@17bd9655   \n",
       "3         POINT (-57.533415119999994 -25.21339002)  [B@4507aca8   \n",
       "4         POINT (-57.565898999999995 -25.42113504)  [B@75e0ac00   \n",
       "\n",
       "                        geometry  \n",
       "0  POINT (-57.507292 -25.345119)  \n",
       "1   POINT (-57.493068 -25.26573)  \n",
       "2  POINT (-57.546319 -25.391998)  \n",
       "3   POINT (-57.533415 -25.21339)  \n",
       "4  POINT (-57.565899 -25.421135)  "
      ]
     },
     "execution_count": 22,
     "metadata": {},
     "output_type": "execute_result"
    }
   ],
   "source": [
    "comisaria.head()"
   ]
  },
  {
   "cell_type": "code",
   "execution_count": 23,
   "metadata": {},
   "outputs": [
    {
     "data": {
      "text/plain": [
       "<matplotlib.axes._subplots.AxesSubplot at 0x3da8126160>"
      ]
     },
     "execution_count": 23,
     "metadata": {},
     "output_type": "execute_result"
    },
    {
     "data": {
      "image/png": "[encoded data removed]",
      "text/plain": [
       "<Figure size 432x288 with 1 Axes>"
      ]
     },
     "metadata": {
      "needs_background": "light"
     },
     "output_type": "display_data"
    }
   ],
   "source": [
    "%matplotlib inline\n",
    "comisaria.plot()"
   ]
  },
  {
   "cell_type": "code",
   "execution_count": 24,
   "metadata": {},
   "outputs": [],
   "source": [
    "from fiona.crs import from_epsg\n",
    "comisaria.crs = from_epsg(\"4326\")"
   ]
  },
  {
   "cell_type": "code",
   "execution_count": 25,
   "metadata": {},
   "outputs": [],
   "source": [
    "comisaria.to_file(\"datos/comisaria.shp\", encoding='utf-8')"
   ]
  },
  {
   "cell_type": "code",
   "execution_count": 51,
   "metadata": {},
   "outputs": [
    {
     "data": {
      "image/svg+xml": [
       "<svg xmlns=\"http://www.w3.org/2000/svg\" xmlns:xlink=\"http://www.w3.org/1999/xlink\" width=\"100.0\" height=\"100.0\" viewBox=\"-58.565899 -26.421135 2.0 2.0\" preserveAspectRatio=\"xMinYMin meet\"><g transform=\"matrix(1,0,0,-1,0,-50.84227)\"><circle cx=\"-57.565899\" cy=\"-25.421135\" r=\"0.06\" stroke=\"#555555\" stroke-width=\"0.02\" fill=\"#66cc99\" opacity=\"0.6\" /></g></svg>"
      ],
      "text/plain": [
       "<shapely.geometry.point.Point at 0x3e4dbad860>"
      ]
     },
     "execution_count": 51,
     "metadata": {},
     "output_type": "execute_result"
    }
   ],
   "source": [
    "comisaria.loc[4, \"geometry\"]"
   ]
  },
  {
   "cell_type": "code",
   "execution_count": 52,
   "metadata": {},
   "outputs": [
    {
     "data": {
      "text/plain": [
       "(18, 6)"
      ]
     },
     "execution_count": 52,
     "metadata": {},
     "output_type": "execute_result"
    }
   ],
   "source": [
    "data.shape"
   ]
  },
  {
   "cell_type": "code",
   "execution_count": 62,
   "metadata": {},
   "outputs": [
    {
     "data": {
      "text/plain": [
       "Index(['dpto', 'dpto_desc', 'cartodb_id', 'created_at', 'updated_at',\n",
       "       'geometry'],\n",
       "      dtype='object')"
      ]
     },
     "execution_count": 62,
     "metadata": {},
     "output_type": "execute_result"
    }
   ],
   "source": [
    "data.columns"
   ]
  },
  {
   "cell_type": "code",
   "execution_count": 59,
   "metadata": {},
   "outputs": [
    {
     "data": {
      "text/plain": [
       "RangeIndex(start=0, stop=18, step=1)"
      ]
     },
     "execution_count": 59,
     "metadata": {},
     "output_type": "execute_result"
    }
   ],
   "source": [
    "data.index"
   ]
  },
  {
   "cell_type": "code",
   "execution_count": 57,
   "metadata": {},
   "outputs": [
    {
     "data": {
      "text/html": [
       "<div>\n",
       "<style scoped>\n",
       "    .dataframe tbody tr th:only-of-type {\n",
       "        vertical-align: middle;\n",
       "    }\n",
       "\n",
       "    .dataframe tbody tr th {\n",
       "        vertical-align: top;\n",
       "    }\n",
       "\n",
       "    .dataframe thead th {\n",
       "        text-align: right;\n",
       "    }\n",
       "</style>\n",
       "<table border=\"1\" class=\"dataframe\">\n",
       "  <thead>\n",
       "    <tr style=\"text-align: right;\">\n",
       "      <th></th>\n",
       "      <th>dpto</th>\n",
       "      <th>dpto_desc</th>\n",
       "      <th>cartodb_id</th>\n",
       "      <th>created_at</th>\n",
       "      <th>updated_at</th>\n",
       "      <th>geometry</th>\n",
       "    </tr>\n",
       "  </thead>\n",
       "  <tbody>\n",
       "    <tr>\n",
       "      <th>0</th>\n",
       "      <td>00</td>\n",
       "      <td>ASUNCION</td>\n",
       "      <td>1</td>\n",
       "      <td>2016-03-03</td>\n",
       "      <td>2016-03-03</td>\n",
       "      <td>POLYGON ((443431.906300001 7209647.500100011, ...</td>\n",
       "    </tr>\n",
       "    <tr>\n",
       "      <th>1</th>\n",
       "      <td>01</td>\n",
       "      <td>CONCEPCION</td>\n",
       "      <td>2</td>\n",
       "      <td>2016-03-03</td>\n",
       "      <td>2016-03-03</td>\n",
       "      <td>POLYGON ((401542.3124999966 7557193.500000006,...</td>\n",
       "    </tr>\n",
       "    <tr>\n",
       "      <th>2</th>\n",
       "      <td>02</td>\n",
       "      <td>SAN PEDRO</td>\n",
       "      <td>3</td>\n",
       "      <td>2016-03-03</td>\n",
       "      <td>2016-03-03</td>\n",
       "      <td>POLYGON ((582918.4626000014 7422582.931500005,...</td>\n",
       "    </tr>\n",
       "    <tr>\n",
       "      <th>3</th>\n",
       "      <td>03</td>\n",
       "      <td>CORDILLERA</td>\n",
       "      <td>4</td>\n",
       "      <td>2016-03-03</td>\n",
       "      <td>2016-03-03</td>\n",
       "      <td>POLYGON ((505120.6480999999 7252404.617100011,...</td>\n",
       "    </tr>\n",
       "    <tr>\n",
       "      <th>4</th>\n",
       "      <td>04</td>\n",
       "      <td>GUAIRA</td>\n",
       "      <td>5</td>\n",
       "      <td>2016-03-03</td>\n",
       "      <td>2016-03-03</td>\n",
       "      <td>POLYGON ((568757.1251000005 7172178.500100013,...</td>\n",
       "    </tr>\n",
       "  </tbody>\n",
       "</table>\n",
       "</div>"
      ],
      "text/plain": [
       "  dpto   dpto_desc  cartodb_id  created_at  updated_at  \\\n",
       "0   00    ASUNCION           1  2016-03-03  2016-03-03   \n",
       "1   01  CONCEPCION           2  2016-03-03  2016-03-03   \n",
       "2   02   SAN PEDRO           3  2016-03-03  2016-03-03   \n",
       "3   03  CORDILLERA           4  2016-03-03  2016-03-03   \n",
       "4   04      GUAIRA           5  2016-03-03  2016-03-03   \n",
       "\n",
       "                                            geometry  \n",
       "0  POLYGON ((443431.906300001 7209647.500100011, ...  \n",
       "1  POLYGON ((401542.3124999966 7557193.500000006,...  \n",
       "2  POLYGON ((582918.4626000014 7422582.931500005,...  \n",
       "3  POLYGON ((505120.6480999999 7252404.617100011,...  \n",
       "4  POLYGON ((568757.1251000005 7172178.500100013,...  "
      ]
     },
     "execution_count": 57,
     "metadata": {},
     "output_type": "execute_result"
    }
   ],
   "source": [
    "data.head()"
   ]
  },
  {
   "cell_type": "code",
   "execution_count": 65,
   "metadata": {},
   "outputs": [
    {
     "data": {
      "text/plain": [
       "'CORDILLERA'"
      ]
     },
     "execution_count": 65,
     "metadata": {},
     "output_type": "execute_result"
    }
   ],
   "source": [
    "data.loc[3, \"dpto_desc\"]"
   ]
  },
  {
   "cell_type": "code",
   "execution_count": 66,
   "metadata": {},
   "outputs": [
    {
     "data": {
      "text/html": [
       "<div>\n",
       "<style scoped>\n",
       "    .dataframe tbody tr th:only-of-type {\n",
       "        vertical-align: middle;\n",
       "    }\n",
       "\n",
       "    .dataframe tbody tr th {\n",
       "        vertical-align: top;\n",
       "    }\n",
       "\n",
       "    .dataframe thead th {\n",
       "        text-align: right;\n",
       "    }\n",
       "</style>\n",
       "<table border=\"1\" class=\"dataframe\">\n",
       "  <thead>\n",
       "    <tr style=\"text-align: right;\">\n",
       "      <th></th>\n",
       "      <th>dpto</th>\n",
       "      <th>dpto_desc</th>\n",
       "      <th>cartodb_id</th>\n",
       "      <th>created_at</th>\n",
       "      <th>updated_at</th>\n",
       "      <th>geometry</th>\n",
       "    </tr>\n",
       "  </thead>\n",
       "  <tbody>\n",
       "    <tr>\n",
       "      <th>0</th>\n",
       "      <td>00</td>\n",
       "      <td>ASUNCION</td>\n",
       "      <td>1</td>\n",
       "      <td>2016-03-03</td>\n",
       "      <td>2016-03-03</td>\n",
       "      <td>POLYGON ((443431.906300001 7209647.500100011, ...</td>\n",
       "    </tr>\n",
       "  </tbody>\n",
       "</table>\n",
       "</div>"
      ],
      "text/plain": [
       "  dpto dpto_desc  cartodb_id  created_at  updated_at  \\\n",
       "0   00  ASUNCION           1  2016-03-03  2016-03-03   \n",
       "\n",
       "                                            geometry  \n",
       "0  POLYGON ((443431.906300001 7209647.500100011, ...  "
      ]
     },
     "execution_count": 66,
     "metadata": {},
     "output_type": "execute_result"
    }
   ],
   "source": [
    "data[data[\"dpto_desc\"] == \"ASUNCION\"]"
   ]
  },
  {
   "cell_type": "code",
   "execution_count": 67,
   "metadata": {},
   "outputs": [
    {
     "data": {
      "text/plain": [
       "0             ASUNCION\n",
       "1           CONCEPCION\n",
       "2            SAN PEDRO\n",
       "3           CORDILLERA\n",
       "4               GUAIRA\n",
       "5             CAAGUAZU\n",
       "6              CAAZAPA\n",
       "7               ITAPUA\n",
       "8             MISIONES\n",
       "9            PARAGUARI\n",
       "10         ALTO PARANA\n",
       "11             CENTRAL\n",
       "12            ÑEEMBUCU\n",
       "13             AMAMBAY\n",
       "14           CANINDEYU\n",
       "15    PRESIDENTE HAYES\n",
       "16            BOQUERON\n",
       "17       ALTO PARAGUAY\n",
       "Name: dpto_desc, dtype: object"
      ]
     },
     "execution_count": 67,
     "metadata": {},
     "output_type": "execute_result"
    }
   ],
   "source": [
    "data[\"dpto_desc\"]"
   ]
  },
  {
   "cell_type": "code",
   "execution_count": 69,
   "metadata": {},
   "outputs": [
    {
     "data": {
      "text/plain": [
       "0       128.328094\n",
       "1     18528.902516\n",
       "2     20836.718926\n",
       "3      4786.707990\n",
       "4      3867.593430\n",
       "5     12898.556942\n",
       "6      9544.537945\n",
       "7     15860.562848\n",
       "8      8153.869397\n",
       "9      8595.885012\n",
       "10    14212.283377\n",
       "11     2411.404705\n",
       "12    11668.274095\n",
       "13    12548.738511\n",
       "14    15063.438697\n",
       "15    73661.366337\n",
       "16    88615.886941\n",
       "17    78610.738710\n",
       "dtype: float64"
      ]
     },
     "execution_count": 69,
     "metadata": {},
     "output_type": "execute_result"
    }
   ],
   "source": [
    "data[\"geometry\"].area / 1000000"
   ]
  },
  {
   "cell_type": "code",
   "execution_count": 71,
   "metadata": {},
   "outputs": [
    {
     "data": {
      "text/plain": [
       "399993.79447358917"
      ]
     },
     "execution_count": 71,
     "metadata": {},
     "output_type": "execute_result"
    }
   ],
   "source": [
    "serie = data[\"geometry\"].area / 1000000\n",
    "serie.sum()"
   ]
  },
  {
   "cell_type": "code",
   "execution_count": 76,
   "metadata": {},
   "outputs": [
    {
     "data": {
      "text/plain": [
       "0     POINT (439100.4024200779 7202668.854587318)\n",
       "1      POINT (488633.8169058361 7474173.30131433)\n",
       "2      POINT (537462.1200400811 7326245.28894496)\n",
       "3     POINT (503843.6714855988 7211683.357792198)\n",
       "4     POINT (570130.4403734833 7142823.292711264)\n",
       "5     POINT (612301.1294855285 7212434.750676905)\n",
       "6      POINT (594340.124140422 7097187.295146433)\n",
       "7      POINT (623439.709014612 7030598.559962536)\n",
       "8      POINT (490578.6159769794 7022836.53864935)\n",
       "9      POINT (486305.2768847744 7117946.45712231)\n",
       "10    POINT (705993.4807497679 7189820.281161638)\n",
       "11     POINT (449624.214393009 7174043.955060092)\n",
       "12    POINT (410784.8234016887 7038478.362291971)\n",
       "13    POINT (596213.9506378918 7469562.295098734)\n",
       "14    POINT (680803.3320052824 7318799.504936581)\n",
       "15    POINT (328034.0706295586 7387161.340299685)\n",
       "16     POINT (78497.72902064386 7574622.30477204)\n",
       "17    POINT (250856.2514935858 7720007.309397465)\n",
       "dtype: object"
      ]
     },
     "execution_count": 76,
     "metadata": {},
     "output_type": "execute_result"
    }
   ],
   "source": [
    "data[\"geometry\"].centroid\n"
   ]
  },
  {
   "cell_type": "code",
   "execution_count": 79,
   "metadata": {},
   "outputs": [],
   "source": [
    "import geopandas as gpd\n",
    "\n",
    "shp1 = gpd.datasets.get_path('naturalearth_lowres')\n",
    "world = gpd.read_file(shp1)\n",
    "\n",
    "shp2 = gpd.datasets.get_path('naturalearth_cities')\n",
    "cities = gpd.read_file(shp2)\n",
    "\n",
    "# For spatial join\n",
    "countries = world[['geometry', 'name']]\n",
    "countries = countries.rename(columns={'name':'country'})\n",
    "cities_with_country = gpd.sjoin(cities, countries, how='inner', op='intersects')\n"
   ]
  },
  {
   "cell_type": "code",
   "execution_count": 84,
   "metadata": {},
   "outputs": [
    {
     "data": {
      "text/html": [
       "<div>\n",
       "<style scoped>\n",
       "    .dataframe tbody tr th:only-of-type {\n",
       "        vertical-align: middle;\n",
       "    }\n",
       "\n",
       "    .dataframe tbody tr th {\n",
       "        vertical-align: top;\n",
       "    }\n",
       "\n",
       "    .dataframe thead th {\n",
       "        text-align: right;\n",
       "    }\n",
       "</style>\n",
       "<table border=\"1\" class=\"dataframe\">\n",
       "  <thead>\n",
       "    <tr style=\"text-align: right;\">\n",
       "      <th></th>\n",
       "      <th>pop_est</th>\n",
       "      <th>continent</th>\n",
       "      <th>name</th>\n",
       "      <th>iso_a3</th>\n",
       "      <th>gdp_md_est</th>\n",
       "      <th>geometry</th>\n",
       "    </tr>\n",
       "  </thead>\n",
       "  <tbody>\n",
       "    <tr>\n",
       "      <th>0</th>\n",
       "      <td>28400000.0</td>\n",
       "      <td>Asia</td>\n",
       "      <td>Afghanistan</td>\n",
       "      <td>AFG</td>\n",
       "      <td>22270.0</td>\n",
       "      <td>POLYGON ((61.21081709172574 35.65007233330923,...</td>\n",
       "    </tr>\n",
       "    <tr>\n",
       "      <th>1</th>\n",
       "      <td>12799293.0</td>\n",
       "      <td>Africa</td>\n",
       "      <td>Angola</td>\n",
       "      <td>AGO</td>\n",
       "      <td>110300.0</td>\n",
       "      <td>(POLYGON ((16.32652835456705 -5.87747039146621...</td>\n",
       "    </tr>\n",
       "    <tr>\n",
       "      <th>2</th>\n",
       "      <td>3639453.0</td>\n",
       "      <td>Europe</td>\n",
       "      <td>Albania</td>\n",
       "      <td>ALB</td>\n",
       "      <td>21810.0</td>\n",
       "      <td>POLYGON ((20.59024743010491 41.85540416113361,...</td>\n",
       "    </tr>\n",
       "    <tr>\n",
       "      <th>3</th>\n",
       "      <td>4798491.0</td>\n",
       "      <td>Asia</td>\n",
       "      <td>United Arab Emirates</td>\n",
       "      <td>ARE</td>\n",
       "      <td>184300.0</td>\n",
       "      <td>POLYGON ((51.57951867046327 24.24549713795111,...</td>\n",
       "    </tr>\n",
       "    <tr>\n",
       "      <th>4</th>\n",
       "      <td>40913584.0</td>\n",
       "      <td>South America</td>\n",
       "      <td>Argentina</td>\n",
       "      <td>ARG</td>\n",
       "      <td>573900.0</td>\n",
       "      <td>(POLYGON ((-65.50000000000003 -55.199999999999...</td>\n",
       "    </tr>\n",
       "  </tbody>\n",
       "</table>\n",
       "</div>"
      ],
      "text/plain": [
       "      pop_est      continent                  name iso_a3  gdp_md_est  \\\n",
       "0  28400000.0           Asia           Afghanistan    AFG     22270.0   \n",
       "1  12799293.0         Africa                Angola    AGO    110300.0   \n",
       "2   3639453.0         Europe               Albania    ALB     21810.0   \n",
       "3   4798491.0           Asia  United Arab Emirates    ARE    184300.0   \n",
       "4  40913584.0  South America             Argentina    ARG    573900.0   \n",
       "\n",
       "                                            geometry  \n",
       "0  POLYGON ((61.21081709172574 35.65007233330923,...  \n",
       "1  (POLYGON ((16.32652835456705 -5.87747039146621...  \n",
       "2  POLYGON ((20.59024743010491 41.85540416113361,...  \n",
       "3  POLYGON ((51.57951867046327 24.24549713795111,...  \n",
       "4  (POLYGON ((-65.50000000000003 -55.199999999999...  "
      ]
     },
     "execution_count": 84,
     "metadata": {},
     "output_type": "execute_result"
    }
   ],
   "source": [
    "world.head()"
   ]
  },
  {
   "cell_type": "code",
   "execution_count": 85,
   "metadata": {},
   "outputs": [
    {
     "data": {
      "text/html": [
       "<div>\n",
       "<style scoped>\n",
       "    .dataframe tbody tr th:only-of-type {\n",
       "        vertical-align: middle;\n",
       "    }\n",
       "\n",
       "    .dataframe tbody tr th {\n",
       "        vertical-align: top;\n",
       "    }\n",
       "\n",
       "    .dataframe thead th {\n",
       "        text-align: right;\n",
       "    }\n",
       "</style>\n",
       "<table border=\"1\" class=\"dataframe\">\n",
       "  <thead>\n",
       "    <tr style=\"text-align: right;\">\n",
       "      <th></th>\n",
       "      <th>name</th>\n",
       "      <th>geometry</th>\n",
       "    </tr>\n",
       "  </thead>\n",
       "  <tbody>\n",
       "    <tr>\n",
       "      <th>0</th>\n",
       "      <td>Vatican City</td>\n",
       "      <td>POINT (12.45338654497177 41.90328217996012)</td>\n",
       "    </tr>\n",
       "    <tr>\n",
       "      <th>1</th>\n",
       "      <td>San Marino</td>\n",
       "      <td>POINT (12.44177015780014 43.936095834768)</td>\n",
       "    </tr>\n",
       "    <tr>\n",
       "      <th>2</th>\n",
       "      <td>Vaduz</td>\n",
       "      <td>POINT (9.516669472907267 47.13372377429357)</td>\n",
       "    </tr>\n",
       "    <tr>\n",
       "      <th>3</th>\n",
       "      <td>Luxembourg</td>\n",
       "      <td>POINT (6.130002806227083 49.61166037912108)</td>\n",
       "    </tr>\n",
       "    <tr>\n",
       "      <th>4</th>\n",
       "      <td>Palikir</td>\n",
       "      <td>POINT (158.1499743237623 6.916643696007725)</td>\n",
       "    </tr>\n",
       "  </tbody>\n",
       "</table>\n",
       "</div>"
      ],
      "text/plain": [
       "           name                                     geometry\n",
       "0  Vatican City  POINT (12.45338654497177 41.90328217996012)\n",
       "1    San Marino    POINT (12.44177015780014 43.936095834768)\n",
       "2         Vaduz  POINT (9.516669472907267 47.13372377429357)\n",
       "3    Luxembourg  POINT (6.130002806227083 49.61166037912108)\n",
       "4       Palikir  POINT (158.1499743237623 6.916643696007725)"
      ]
     },
     "execution_count": 85,
     "metadata": {},
     "output_type": "execute_result"
    }
   ],
   "source": [
    "cities.head()"
   ]
  },
  {
   "cell_type": "code",
   "execution_count": 83,
   "metadata": {},
   "outputs": [
    {
     "data": {
      "text/html": [
       "<div>\n",
       "<style scoped>\n",
       "    .dataframe tbody tr th:only-of-type {\n",
       "        vertical-align: middle;\n",
       "    }\n",
       "\n",
       "    .dataframe tbody tr th {\n",
       "        vertical-align: top;\n",
       "    }\n",
       "\n",
       "    .dataframe thead th {\n",
       "        text-align: right;\n",
       "    }\n",
       "</style>\n",
       "<table border=\"1\" class=\"dataframe\">\n",
       "  <thead>\n",
       "    <tr style=\"text-align: right;\">\n",
       "      <th></th>\n",
       "      <th>name</th>\n",
       "      <th>geometry</th>\n",
       "      <th>index_right</th>\n",
       "      <th>country</th>\n",
       "    </tr>\n",
       "  </thead>\n",
       "  <tbody>\n",
       "    <tr>\n",
       "      <th>0</th>\n",
       "      <td>Vatican City</td>\n",
       "      <td>POINT (12.45338654497177 41.90328217996012)</td>\n",
       "      <td>79</td>\n",
       "      <td>Italy</td>\n",
       "    </tr>\n",
       "    <tr>\n",
       "      <th>1</th>\n",
       "      <td>San Marino</td>\n",
       "      <td>POINT (12.44177015780014 43.936095834768)</td>\n",
       "      <td>79</td>\n",
       "      <td>Italy</td>\n",
       "    </tr>\n",
       "    <tr>\n",
       "      <th>192</th>\n",
       "      <td>Rome</td>\n",
       "      <td>POINT (12.481312562874 41.89790148509894)</td>\n",
       "      <td>79</td>\n",
       "      <td>Italy</td>\n",
       "    </tr>\n",
       "    <tr>\n",
       "      <th>2</th>\n",
       "      <td>Vaduz</td>\n",
       "      <td>POINT (9.516669472907267 47.13372377429357)</td>\n",
       "      <td>9</td>\n",
       "      <td>Austria</td>\n",
       "    </tr>\n",
       "    <tr>\n",
       "      <th>184</th>\n",
       "      <td>Vienna</td>\n",
       "      <td>POINT (16.36469309674374 48.20196113681686)</td>\n",
       "      <td>9</td>\n",
       "      <td>Austria</td>\n",
       "    </tr>\n",
       "  </tbody>\n",
       "</table>\n",
       "</div>"
      ],
      "text/plain": [
       "             name                                     geometry  index_right  \\\n",
       "0    Vatican City  POINT (12.45338654497177 41.90328217996012)           79   \n",
       "1      San Marino    POINT (12.44177015780014 43.936095834768)           79   \n",
       "192          Rome    POINT (12.481312562874 41.89790148509894)           79   \n",
       "2           Vaduz  POINT (9.516669472907267 47.13372377429357)            9   \n",
       "184        Vienna  POINT (16.36469309674374 48.20196113681686)            9   \n",
       "\n",
       "     country  \n",
       "0      Italy  \n",
       "1      Italy  \n",
       "192    Italy  \n",
       "2    Austria  \n",
       "184  Austria  "
      ]
     },
     "execution_count": 83,
     "metadata": {},
     "output_type": "execute_result"
    }
   ],
   "source": [
    "cities_with_country.head()"
   ]
  },
  {
   "cell_type": "code",
   "execution_count": 86,
   "metadata": {},
   "outputs": [
    {
     "data": {
      "text/plain": [
       "<matplotlib.axes._subplots.AxesSubplot at 0x3e4dca3470>"
      ]
     },
     "execution_count": 86,
     "metadata": {},
     "output_type": "execute_result"
    },
    {
     "data": {
      "image/png": "[encoded data removed]",
      "text/plain": [
       "<Figure size 432x288 with 1 Axes>"
      ]
     },
     "metadata": {
      "needs_background": "light"
     },
     "output_type": "display_data"
    },
    {
     "data": {
      "image/png": "[encoded data removed]",
      "text/plain": [
       "<Figure size 432x288 with 1 Axes>"
      ]
     },
     "metadata": {
      "needs_background": "light"
     },
     "output_type": "display_data"
    }
   ],
   "source": [
    "world = world[(world.pop_est>0) & (world.name!=\"Antarctica\")]\n",
    "world['gdp_per_cap'] = world.gdp_md_est / world.pop_est\n",
    "world.plot(column='gdp_per_cap')\n",
    "\n",
    "cities.plot(marker='*', color='green', markersize=5)\n"
   ]
  },
  {
   "cell_type": "code",
   "execution_count": 92,
   "metadata": {},
   "outputs": [
    {
     "data": {
      "text/plain": [
       "<matplotlib.axes._subplots.AxesSubplot at 0x3e4d47a4e0>"
      ]
     },
     "execution_count": 92,
     "metadata": {},
     "output_type": "execute_result"
    },
    {
     "data": {
      "image/png": "[encoded data removed]",
      "text/plain": [
       "<Figure size 432x288 with 2 Axes>"
      ]
     },
     "metadata": {
      "needs_background": "light"
     },
     "output_type": "display_data"
    },
    {
     "data": {
      "image/png": "[encoded data removed]",
      "text/plain": [
       "<Figure size 432x288 with 1 Axes>"
      ]
     },
     "metadata": {
      "needs_background": "light"
     },
     "output_type": "display_data"
    }
   ],
   "source": [
    "import matplotlib.pyplot as plt\n",
    "fig, ax = plt.subplots(1, 1)\n",
    "\n",
    "world.plot(column='pop_est',ax=ax, legend=True,legend_kwds={'label': \"Population by Country\",'orientation': \"horizontal\"})\n",
    "\n",
    "world.plot(column='gdp_per_cap', cmap='OrRd', scheme='quantiles')"
   ]
  },
  {
   "cell_type": "code",
   "execution_count": null,
   "metadata": {},
   "outputs": [],
   "source": []
  }
 ],
 "metadata": {
  "kernelspec": {
   "display_name": "Python 3",
   "language": "python",
   "name": "python3"
  },
  "language_info": {
   "codemirror_mode": {
    "name": "ipython",
    "version": 3
   },
   "file_extension": ".py",
   "mimetype": "text/x-python",
   "name": "python",
   "nbconvert_exporter": "python",
   "pygments_lexer": "ipython3",
   "version": "3.7.3"
  }
 },
 "nbformat": 4,
 "nbformat_minor": 4
}
